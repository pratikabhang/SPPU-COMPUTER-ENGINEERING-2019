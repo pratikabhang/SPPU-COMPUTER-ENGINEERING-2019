{
 "cells": [
  {
   "cell_type": "code",
   "execution_count": 35,
   "id": "7889d5cb-3ee0-421c-9551-3f3e0a765816",
   "metadata": {},
   "outputs": [],
   "source": [
    "import nltk"
   ]
  },
  {
   "cell_type": "code",
   "execution_count": 36,
   "id": "5dc2d040",
   "metadata": {},
   "outputs": [
    {
     "name": "stdout",
     "output_type": "stream",
     "text": [
      "Tokenized words: ['Sachin', 'was', 'the', 'GOAT', 'of', 'the', 'previous', 'generation', '.', 'Virat', 'is', 'the', 'GOAT', 'of', 'this', 'generation', '.', 'Gill', 'will', 'be', 'the', 'GOAT', 'of', 'the', 'next', 'generation', '.']\n",
      "\n",
      "Tokenized sentences: ['Sachin was the GOAT of the previous generation.', 'Virat is the GOAT of this generation.', 'Gill will be the GOAT of the next generation.']\n"
     ]
    }
   ],
   "source": [
    "#Tokenization\n",
    "from nltk import word_tokenize, sent_tokenize\n",
    "text=\"Sachin was the GOAT of the previous generation. Virat is the GOAT of this generation. Gill will be the GOAT of the next generation.\"\n",
    "print('Tokenized words:', word_tokenize(text))\n",
    "print('\\nTokenized sentences:', sent_tokenize(text))"
   ]
  },
  {
   "cell_type": "code",
   "execution_count": 37,
   "id": "4d236522",
   "metadata": {},
   "outputs": [
    {
     "name": "stdout",
     "output_type": "stream",
     "text": [
      "Token Sentence: ['Sachin', 'was', 'the', 'GOAT', 'of', 'the', 'previous', 'generation', '.', 'Virat', 'is', 'the', 'GOAT', 'of', 'this', 'generation', '.', 'Gill', 'will', 'be', 'the', 'GOAT', 'of', 'the', 'next', 'generation', '.', 'Sachin', 'was', 'the', 'GOAT', 'of', 'the', 'previous', 'generation', '.', 'Virat', 'is', 'the', 'GOAT', 'of', 'this', 'generation', '.', 'Gill', 'will', 'be', 'the', 'GOAT', 'of', 'the', 'next', 'generation', '.']\n",
      "\n",
      "POS Tagging: [('Sachin', 'NNP'), ('was', 'VBD'), ('the', 'DT'), ('GOAT', 'NNP'), ('of', 'IN'), ('the', 'DT'), ('previous', 'JJ'), ('generation', 'NN'), ('.', '.'), ('Virat', 'NNP'), ('is', 'VBZ'), ('the', 'DT'), ('GOAT', 'NNP'), ('of', 'IN'), ('this', 'DT'), ('generation', 'NN'), ('.', '.'), ('Gill', 'NNP'), ('will', 'MD'), ('be', 'VB'), ('the', 'DT'), ('GOAT', 'NNP'), ('of', 'IN'), ('the', 'DT'), ('next', 'JJ'), ('generation', 'NN'), ('.', '.'), ('Sachin', 'NNP'), ('was', 'VBD'), ('the', 'DT'), ('GOAT', 'NNP'), ('of', 'IN'), ('the', 'DT'), ('previous', 'JJ'), ('generation', 'NN'), ('.', '.'), ('Virat', 'NNP'), ('is', 'VBZ'), ('the', 'DT'), ('GOAT', 'NNP'), ('of', 'IN'), ('this', 'DT'), ('generation', 'NN'), ('.', '.'), ('Gill', 'NNP'), ('will', 'MD'), ('be', 'VB'), ('the', 'DT'), ('GOAT', 'NNP'), ('of', 'IN'), ('the', 'DT'), ('next', 'JJ'), ('generation', 'NN'), ('.', '.')]\n"
     ]
    }
   ],
   "source": [
    "#POS Tagging\n",
    "from nltk import pos_tag\n",
    "token = word_tokenize(text) + word_tokenize(text)\n",
    "tagged = pos_tag(token) \n",
    "print('Token Sentence:', token)\n",
    "print('\\nPOS Tagging:', tagged)"
   ]
  },
  {
   "cell_type": "code",
   "execution_count": 38,
   "id": "84623f85-66be-4762-bb55-a1d95a3c0389",
   "metadata": {},
   "outputs": [
    {
     "name": "stdout",
     "output_type": "stream",
     "text": [
      "Stop Word: {'yourself', 'any', 'aren', 'd', 'shouldn', 'your', \"wouldn't\", 'after', \"shouldn't\", 'himself', 'above', 'whom', 'each', 'doing', 'below', 'which', 'ain', 'shan', \"that'll\", 'his', \"couldn't\", 'who', 're', \"hadn't\", \"mustn't\", 'before', 'more', \"doesn't\", 'again', 'does', 'other', 'doesn', 'about', 'up', \"aren't\", 'my', \"didn't\", 'are', 'should', 'our', 'its', 'these', 'or', 'hers', 'with', \"isn't\", 't', 'into', 'mustn', \"hasn't\", 'wouldn', 'few', 'than', 'that', 'very', \"she's\", 'most', \"haven't\", 'under', 'where', 'same', 'couldn', 'mightn', 'had', \"weren't\", 'them', 'can', \"don't\", 'by', 'didn', 'don', 'm', 'wasn', 'have', 'down', 'he', 'do', 'then', 'we', 'how', \"you'd\", 'him', 'ours', 'theirs', 'a', 'myself', 'because', 'once', 'some', 'no', 'been', 'having', 'nor', 'just', 'during', 'ourselves', 'through', 'it', 'will', 'be', 'was', 'there', 'but', 'what', 'out', \"should've\", 's', 'itself', 'at', 'yours', 'in', 'against', 'themselves', 'further', 'has', \"shan't\", 'over', \"wasn't\", 'her', 'did', 'weren', 'the', 'when', 'both', 'haven', 'is', \"needn't\", 'll', \"you'll\", 'until', 'here', \"mightn't\", 'why', 'were', 'they', 'too', 'off', 'i', 'an', 'o', 'to', 'if', 'of', 'you', 'she', 'me', 'this', 'while', 'from', 'such', 'yourselves', 'so', 'now', 've', 'hadn', 'being', 'not', 'as', 'am', 'herself', \"you've\", 'all', 'y', 'needn', 'hasn', 'their', 'for', 'on', 'ma', 'and', 'own', 'between', 'only', 'isn', \"it's\", 'won', \"you're\", 'those', \"won't\"}\n",
      "\n",
      "Token Sentence: ['Sachin', 'was', 'the', 'GOAT', 'of', 'the', 'previous', 'generation', '.', 'Virat', 'is', 'the', 'GOAT', 'of', 'this', 'generation', '.', 'Gill', 'will', 'be', 'the', 'GOAT', 'of', 'the', 'next', 'generation', '.']\n",
      "\n",
      "Cleaned version: ['Sachin', 'GOAT', 'previous', 'generation', '.', 'Virat', 'GOAT', 'generation', '.', 'Gill', 'GOAT', 'next', 'generation', '.']\n"
     ]
    }
   ],
   "source": [
    "#Stop-Words\n",
    "from nltk.corpus import stopwords \n",
    "stop_words=set(stopwords.words(\"english\")) \n",
    "token = word_tokenize(text)\n",
    "cleaned_token = []\n",
    "for word in token:\n",
    "    if word not in stop_words:\n",
    "        cleaned_token.append(word)\n",
    "print('Stop Word:', stop_words)\n",
    "print('\\nToken Sentence:', token)\n",
    "print('\\nCleaned version:', cleaned_token)"
   ]
  },
  {
   "cell_type": "code",
   "execution_count": 39,
   "id": "82cd75da",
   "metadata": {},
   "outputs": [
    {
     "name": "stdout",
     "output_type": "stream",
     "text": [
      "['sachin', 'wa', 'the', 'goat', 'of', 'the', 'previou', 'gener', '.', 'virat', 'is', 'the', 'goat', 'of', 'thi', 'gener', '.', 'gill', 'will', 'be', 'the', 'goat', 'of', 'the', 'next', 'gener', '.']\n"
     ]
    }
   ],
   "source": [
    "#Stemming\n",
    "from nltk.stem import PorterStemmer\n",
    "ps = PorterStemmer()\n",
    "token = word_tokenize(text)\n",
    "stemmer = [ps.stem(word) for word in token]\n",
    "print(stemmer)"
   ]
  },
  {
   "cell_type": "code",
   "execution_count": 40,
   "id": "c2705a6b",
   "metadata": {},
   "outputs": [
    {
     "name": "stdout",
     "output_type": "stream",
     "text": [
      "['Sachin', 'wa', 'the', 'GOAT', 'of', 'the', 'previous', 'generation', '.', 'Virat', 'is', 'the', 'GOAT', 'of', 'this', 'generation', '.', 'Gill', 'will', 'be', 'the', 'GOAT', 'of', 'the', 'next', 'generation', '.']\n"
     ]
    }
   ],
   "source": [
    "#Lemmatization \n",
    "from nltk.stem import WordNetLemmatizer \n",
    "l = WordNetLemmatizer()\n",
    "token = word_tokenize(text)\n",
    "lemmatizer = [l.lemmatize(word) for word in token]\n",
    "print(lemmatizer)"
   ]
  },
  {
   "cell_type": "code",
   "execution_count": 41,
   "id": "7e76b344",
   "metadata": {},
   "outputs": [
    {
     "name": "stdout",
     "output_type": "stream",
     "text": [
      "  (0, 5)\t0.1270001270001905\n",
      "  (0, 0)\t0.1270001270001905\n",
      "  (0, 13)\t0.1270001270001905\n",
      "  (0, 2)\t0.1270001270001905\n",
      "  (0, 10)\t0.1270001270001905\n",
      "  (0, 4)\t0.1270001270001905\n",
      "  (0, 11)\t0.1270001270001905\n",
      "  (0, 1)\t0.3810003810005715\n",
      "  (0, 7)\t0.1270001270001905\n",
      "  (0, 6)\t0.3810003810005715\n",
      "  (0, 3)\t0.3810003810005715\n",
      "  (0, 9)\t0.6350006350009525\n",
      "  (0, 12)\t0.1270001270001905\n",
      "  (0, 8)\t0.1270001270001905\n"
     ]
    }
   ],
   "source": [
    "# Instantiate the TfidfVectorizer\n",
    "from sklearn.feature_extraction.text import TfidfVectorizer \n",
    "data = {'text': ['Sachin was the GOAT of the previous generation. Virat is the GOAT of this generation. Gill will be the GOAT of the next generation.']}\n",
    "tf = TfidfVectorizer()\n",
    "text_tf = tf.fit_transform(data['text'])\n",
    "print(text_tf)"
   ]
  },
  {
   "cell_type": "code",
   "execution_count": null,
   "id": "69386299",
   "metadata": {},
   "outputs": [],
   "source": []
  }
 ],
 "metadata": {
  "kernelspec": {
   "display_name": "Python 3 (ipykernel)",
   "language": "python",
   "name": "python3"
  },
  "language_info": {
   "codemirror_mode": {
    "name": "ipython",
    "version": 3
   },
   "file_extension": ".py",
   "mimetype": "text/x-python",
   "name": "python",
   "nbconvert_exporter": "python",
   "pygments_lexer": "ipython3",
   "version": "3.11.7"
  }
 },
 "nbformat": 4,
 "nbformat_minor": 5
}
