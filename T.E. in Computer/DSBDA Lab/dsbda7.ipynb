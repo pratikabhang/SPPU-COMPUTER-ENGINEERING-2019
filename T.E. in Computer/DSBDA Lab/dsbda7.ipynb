{
 "cells": [
  {
   "cell_type": "code",
   "execution_count": 1,
   "id": "5dc2d040",
   "metadata": {},
   "outputs": [
    {
     "name": "stdout",
     "output_type": "stream",
     "text": [
      "1st Tokenized words: ['I', 'will', 'walk', '500', 'miles', 'and', 'I', 'would', 'walk', '500', 'more', '.', 'Just', 'to', 'be', 'the', 'man', 'who', 'walks', 'a', 'thousand', 'miles', 'to', 'fall', 'down', 'at', 'your', 'door', '!']\n",
      "\n",
      "1st Tokenized sentences: ['I will walk 500 miles and I would walk 500 more.', 'Just to be the man who walks a thousand miles to fall down at your door!']\n",
      "\n",
      "2nd Tokenized words: ['I', 'played', 'the', 'play', 'playfully', 'as', 'the', 'players', 'were', 'playing', 'in', 'the', 'play', 'with', 'playfullness']\n",
      "\n",
      "2nd Tokenized sentences: ['I played the play playfully as the players were playing in the play with playfullness']\n"
     ]
    }
   ],
   "source": [
    "#Tokenization\n",
    "from nltk import word_tokenize, sent_tokenize\n",
    "sentence1 = \"I will walk 500 miles and I would walk 500 more. Just to be the man who walks a thousand miles to fall down at your door!\"\n",
    "sentence2 = \"I played the play playfully as the players were playing in the play with playfullness\"\n",
    "print('1st Tokenized words:', word_tokenize(sentence1))\n",
    "print('\\n1st Tokenized sentences:', sent_tokenize(sentence1))\n",
    "print('\\n2nd Tokenized words:', word_tokenize(sentence2))\n",
    "print('\\n2nd Tokenized sentences:', sent_tokenize(sentence2))"
   ]
  },
  {
   "cell_type": "code",
   "execution_count": 2,
   "id": "4d236522",
   "metadata": {},
   "outputs": [
    {
     "name": "stdout",
     "output_type": "stream",
     "text": [
      "Tagging Parts of Speech: [('I', 'PRP'), ('will', 'MD'), ('walk', 'VB'), ('500', 'CD'), ('miles', 'NNS'), ('and', 'CC'), ('I', 'PRP'), ('would', 'MD'), ('walk', 'VB'), ('500', 'CD'), ('more', 'JJR'), ('.', '.'), ('Just', 'NNP'), ('to', 'TO'), ('be', 'VB'), ('the', 'DT'), ('man', 'NN'), ('who', 'WP'), ('walks', 'VBZ'), ('a', 'DT'), ('thousand', 'NN'), ('miles', 'NNS'), ('to', 'TO'), ('fall', 'VB'), ('down', 'RP'), ('at', 'IN'), ('your', 'PRP$'), ('door', 'NN'), ('!', '.'), ('I', 'PRP'), ('played', 'VBD'), ('the', 'DT'), ('play', 'NN'), ('playfully', 'RB'), ('as', 'IN'), ('the', 'DT'), ('players', 'NNS'), ('were', 'VBD'), ('playing', 'VBG'), ('in', 'IN'), ('the', 'DT'), ('play', 'NN'), ('with', 'IN'), ('playfullness', 'NN')]\n"
     ]
    }
   ],
   "source": [
    "#POS Tagging\n",
    "from nltk import pos_tag\n",
    "token = word_tokenize(sentence1) + word_tokenize(sentence2)\n",
    "tagged = pos_tag(token) \n",
    "print(\"Tagging Parts of Speech:\", tagged)"
   ]
  },
  {
   "cell_type": "code",
   "execution_count": 3,
   "id": "d50cb486",
   "metadata": {},
   "outputs": [
    {
     "name": "stdout",
     "output_type": "stream",
     "text": [
      "{'both', 'for', 'who', 'now', 'themselves', 'it', 'by', 'off', 't', 'can', 'or', 'why', 'not', \"you'd\", 'been', 's', 'most', 'm', 'shouldn', 'out', 'until', 'she', 'during', 'his', \"don't\", 'against', 'in', 'how', 'do', 'being', 'mustn', 'too', 've', 'him', 'isn', \"hasn't\", 'to', 'he', 'each', 'those', 'some', 'don', \"hadn't\", 'we', 'through', 'then', 'an', 'the', 'haven', \"shouldn't\", 'so', 'same', 'and', 'this', 'after', \"mightn't\", 'was', 'does', \"you're\", 'into', 'these', 'all', 'what', 'before', 'where', 'ours', 'doesn', 'between', 'yourself', 'down', 'herself', 'had', \"should've\", \"that'll\", 'with', 'mightn', \"won't\", 'having', 'i', 'himself', 'our', 'yours', 'theirs', 'were', 'at', 'wouldn', \"isn't\", 'because', 'if', 'other', 'are', \"didn't\", 'under', 'd', 'about', 'further', 'while', \"mustn't\", 'them', 'my', 'nor', 'from', 'once', 'did', 'should', 'on', 'hadn', 'which', 'o', \"she's\", 'hers', \"wasn't\", 'shan', 'needn', 'itself', 'ourselves', 'over', \"needn't\", 'only', 'll', 'but', 'ain', 'you', 'than', 'below', 'few', \"couldn't\", 'of', 'they', 'will', 'won', 'me', 'any', 'myself', 'didn', 'above', 'when', \"it's\", 'your', 'its', 'doing', 'her', \"you've\", 'no', 'here', 'hasn', 'their', 'ma', 'yourselves', 'just', 'a', 'aren', 'that', 'wasn', 'has', 'own', 're', 'weren', \"weren't\", 'more', 'is', 'am', 'there', 'very', \"you'll\", 'whom', 'as', 'y', \"aren't\", 'up', 'couldn', \"shan't\", 'be', \"wouldn't\", 'have', \"doesn't\", 'again', 'such', \"haven't\"}\n",
      "Token Sentence: ['I', 'will', 'walk', '500', 'miles', 'and', 'I', 'would', 'walk', '500', 'more', '.', 'Just', 'to', 'be', 'the', 'man', 'who', 'walks', 'a', 'thousand', 'miles', 'to', 'fall', 'down', 'at', 'your', 'door', '!']\n",
      "\n",
      "Cleaned version: ['I', 'walk', '500', 'miles', 'I', 'would', 'walk', '500', '.', 'Just', 'man', 'walks', 'thousand', 'miles', 'fall', 'door', '!']\n"
     ]
    }
   ],
   "source": [
    "#Stop-Words Removal 1\n",
    "from nltk.corpus import stopwords \n",
    "stop_words=set(stopwords.words(\"english\")) \n",
    "print(stop_words)\n",
    "token = word_tokenize(sentence1)\n",
    "cleaned_token = []\n",
    "for word in token:\n",
    "    if word not in stop_words:\n",
    "        cleaned_token.append(word)\n",
    "print('Token Sentence:', token)\n",
    "print('\\nCleaned version:', cleaned_token)"
   ]
  },
  {
   "cell_type": "code",
   "execution_count": 4,
   "id": "a562994a",
   "metadata": {},
   "outputs": [
    {
     "name": "stdout",
     "output_type": "stream",
     "text": [
      "{'both', 'for', 'who', 'now', 'themselves', 'it', 'by', 'off', 't', 'can', 'or', 'why', 'not', \"you'd\", 'been', 's', 'most', 'm', 'shouldn', 'out', 'until', 'she', 'during', 'his', \"don't\", 'against', 'in', 'how', 'do', 'being', 'mustn', 'too', 've', 'him', 'isn', \"hasn't\", 'to', 'he', 'each', 'those', 'some', 'don', \"hadn't\", 'we', 'through', 'then', 'an', 'the', 'haven', \"shouldn't\", 'so', 'same', 'and', 'this', 'after', \"mightn't\", 'was', 'does', \"you're\", 'into', 'these', 'all', 'what', 'before', 'where', 'ours', 'doesn', 'between', 'yourself', 'down', 'herself', 'had', \"should've\", \"that'll\", 'with', 'mightn', \"won't\", 'having', 'i', 'himself', 'our', 'yours', 'theirs', 'were', 'at', 'wouldn', \"isn't\", 'because', 'if', 'other', 'are', \"didn't\", 'under', 'd', 'about', 'further', 'while', \"mustn't\", 'them', 'my', 'nor', 'from', 'once', 'did', 'should', 'on', 'hadn', 'which', 'o', \"she's\", 'hers', \"wasn't\", 'shan', 'needn', 'itself', 'ourselves', 'over', \"needn't\", 'only', 'll', 'but', 'ain', 'you', 'than', 'below', 'few', \"couldn't\", 'of', 'they', 'will', 'won', 'me', 'any', 'myself', 'didn', 'above', 'when', \"it's\", 'your', 'its', 'doing', 'her', \"you've\", 'no', 'here', 'hasn', 'their', 'ma', 'yourselves', 'just', 'a', 'aren', 'that', 'wasn', 'has', 'own', 're', 'weren', \"weren't\", 'more', 'is', 'am', 'there', 'very', \"you'll\", 'whom', 'as', 'y', \"aren't\", 'up', 'couldn', \"shan't\", 'be', \"wouldn't\", 'have', \"doesn't\", 'again', 'such', \"haven't\"}\n",
      "Token Sentence: ['I', 'played', 'the', 'play', 'playfully', 'as', 'the', 'players', 'were', 'playing', 'in', 'the', 'play', 'with', 'playfullness']\n",
      "\n",
      "Cleaned version: ['I', 'played', 'play', 'playfully', 'players', 'playing', 'play', 'playfullness']\n"
     ]
    }
   ],
   "source": [
    "#Stop-Words Removal 2\n",
    "from nltk.corpus import stopwords \n",
    "stop_words=set(stopwords.words(\"english\")) \n",
    "print(stop_words)\n",
    "token = word_tokenize(sentence2)\n",
    "cleaned_token = []\n",
    "for word in token:\n",
    "    if word not in stop_words:\n",
    "        cleaned_token.append(word)\n",
    "print('Token Sentence:', token)\n",
    "print('\\nCleaned version:', cleaned_token)"
   ]
  },
  {
   "cell_type": "code",
   "execution_count": 5,
   "id": "82cd75da",
   "metadata": {},
   "outputs": [
    {
     "name": "stdout",
     "output_type": "stream",
     "text": [
      "i will walk 500 mile and i would walk 500 more . just to be the man who walk a thousand mile to fall down at your door !\n"
     ]
    }
   ],
   "source": [
    "#Stemming 1\n",
    "from nltk.stem import PorterStemmer\n",
    "stemmer = PorterStemmer()\n",
    "token = word_tokenize(sentence1)\n",
    "stemmed = [stemmer.stem(word) for word in token]\n",
    "print(\" \".join(stemmed))"
   ]
  },
  {
   "cell_type": "code",
   "execution_count": 6,
   "id": "c2705a6b",
   "metadata": {},
   "outputs": [
    {
     "name": "stdout",
     "output_type": "stream",
     "text": [
      "I will walk 500 mile and I would walk 500 more . Just to be the man who walk a thousand mile to fall down at your door !\n"
     ]
    }
   ],
   "source": [
    "#Lemmatization 1\n",
    "from nltk.stem import WordNetLemmatizer \n",
    "lemmatizer = WordNetLemmatizer()\n",
    "token = word_tokenize(sentence1)\n",
    "lemmatized_output = [lemmatizer.lemmatize(word) for word in token]\n",
    "print(\" \".join(lemmatized_output))"
   ]
  },
  {
   "cell_type": "code",
   "execution_count": 7,
   "id": "7741eb45",
   "metadata": {},
   "outputs": [
    {
     "name": "stdout",
     "output_type": "stream",
     "text": [
      "i play the play play as the player were play in the play with playful\n"
     ]
    }
   ],
   "source": [
    "#Stemming 2\n",
    "from nltk.stem import PorterStemmer\n",
    "stemmer = PorterStemmer()\n",
    "token = word_tokenize(sentence2)\n",
    "stemmed = [stemmer.stem(word) for word in token]\n",
    "print(\" \".join(stemmed))"
   ]
  },
  {
   "cell_type": "code",
   "execution_count": 8,
   "id": "1bbcd5cd",
   "metadata": {},
   "outputs": [
    {
     "name": "stdout",
     "output_type": "stream",
     "text": [
      "I played the play playfully a the player were playing in the play with playfullness\n"
     ]
    }
   ],
   "source": [
    "#Lemmatization 2\n",
    "from nltk.stem import WordNetLemmatizer \n",
    "lemmatizer = WordNetLemmatizer()\n",
    "token = word_tokenize(sentence2)\n",
    "lemmatized_output = [lemmatizer.lemmatize(word) for word in token]\n",
    "print(\" \".join(lemmatized_output))"
   ]
  },
  {
   "cell_type": "code",
   "execution_count": 9,
   "id": "7e76b344",
   "metadata": {},
   "outputs": [
    {
     "name": "stdout",
     "output_type": "stream",
     "text": [
      "  (0, 4)\t0.17677669529663687\n",
      "  (0, 19)\t0.17677669529663687\n",
      "  (0, 2)\t0.17677669529663687\n",
      "  (0, 5)\t0.17677669529663687\n",
      "  (0, 6)\t0.17677669529663687\n",
      "  (0, 12)\t0.17677669529663687\n",
      "  (0, 15)\t0.17677669529663687\n",
      "  (0, 16)\t0.17677669529663687\n",
      "  (0, 8)\t0.17677669529663687\n",
      "  (0, 11)\t0.17677669529663687\n",
      "  (0, 3)\t0.17677669529663687\n",
      "  (0, 13)\t0.35355339059327373\n",
      "  (0, 7)\t0.17677669529663687\n",
      "  (0, 10)\t0.17677669529663687\n",
      "  (0, 18)\t0.17677669529663687\n",
      "  (0, 1)\t0.17677669529663687\n",
      "  (0, 9)\t0.35355339059327373\n",
      "  (0, 0)\t0.35355339059327373\n",
      "  (0, 14)\t0.35355339059327373\n",
      "  (0, 17)\t0.17677669529663687\n"
     ]
    }
   ],
   "source": [
    "# Instantiate the TfidfVectorizer\n",
    "from sklearn.feature_extraction.text import TfidfVectorizer \n",
    "data = {'text': ['I will walk 500 miles and I would walk 500 more. Just to be the man who walks a thousand miles to fall down at your door!']}\n",
    "tf = TfidfVectorizer()\n",
    "text_tf = tf.fit_transform(data['text'])\n",
    "print(text_tf)"
   ]
  },
  {
   "cell_type": "code",
   "execution_count": null,
   "id": "69386299",
   "metadata": {},
   "outputs": [],
   "source": []
  }
 ],
 "metadata": {
  "kernelspec": {
   "display_name": "Python 3 (ipykernel)",
   "language": "python",
   "name": "python3"
  },
  "language_info": {
   "codemirror_mode": {
    "name": "ipython",
    "version": 3
   },
   "file_extension": ".py",
   "mimetype": "text/x-python",
   "name": "python",
   "nbconvert_exporter": "python",
   "pygments_lexer": "ipython3",
   "version": "3.11.5"
  }
 },
 "nbformat": 4,
 "nbformat_minor": 5
}
